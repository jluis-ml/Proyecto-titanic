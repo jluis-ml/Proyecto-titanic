{
 "cells": [
  {
   "cell_type": "markdown",
   "metadata": {},
   "source": [
    "## Entrenamiento de los modelos "
   ]
  },
  {
   "cell_type": "code",
   "execution_count": 36,
   "metadata": {},
   "outputs": [],
   "source": [
    "import json\n",
    "import pickle\n",
    "import numpy as np\n",
    "import logging\n",
    "import os\n",
    "import warnings\n",
    "import joblib\n",
    "import mlflow\n",
    "import pandas as pd\n",
    "import matplotlib.pyplot as plt\n",
    "from imblearn.over_sampling import SMOTE\n",
    "from imblearn.pipeline import Pipeline\n",
    "from sklearn.ensemble import RandomForestClassifier\n",
    "from sklearn.feature_extraction.text import CountVectorizer, TfidfVectorizer, TfidfTransformer\n",
    "from sklearn.linear_model import LogisticRegression\n",
    "from sklearn.metrics import (accuracy_score, classification_report, confusion_matrix,\n",
    "                             ConfusionMatrixDisplay, precision_recall_fscore_support,\n",
    "                             precision_score, recall_score, roc_auc_score)\n",
    "from sklearn.svm import SVC\n",
    "from sklearn.neural_network import MLPClassifier\n",
    "from sklearn.model_selection import GridSearchCV, StratifiedKFold, train_test_split, cross_val_predict\n",
    "from sklearn.model_selection import StratifiedKFold\n",
    "from sklearn.naive_bayes import MultinomialNB\n",
    "from sklearn.preprocessing import  StandardScaler\n",
    "from sklearn.tree import DecisionTreeClassifier\n",
    "\n",
    "logging.basicConfig(level=logging.INFO)\n",
    "logger = logging.getLogger(__name__)\n",
    "warnings.filterwarnings(\"ignore\")\n"
   ]
  },
  {
   "cell_type": "code",
   "execution_count": 3,
   "metadata": {},
   "outputs": [],
   "source": [
    "def read_csv(file_name=str, path=\"D:/Repositorio/Proyecto-titanic/data_processed\")->pd.DataFrame:\n",
    "\n",
    "    #This function read the csv file\n",
    "    return pd.read_csv(os.path.join(path, file_name))\n",
    "\n",
    "def one_hot_encoding(data, columns):\n",
    "    \"\"\"\n",
    "    Esta función aplica one-hot encoding a las columnas especificadas en un DataFrame.\n",
    "    \n",
    "    Args:\n",
    "        data (DataFrame): DataFrame de pandas que contiene los datos.\n",
    "        columns (list): Lista de nombres de columnas a codificar en one-hot encoding.\n",
    "    \n",
    "    Returns:\n",
    "        DataFrame: DataFrame con las columnas codificadas en one-hot encoding.\n",
    "    \"\"\"\n",
    "    # Convertir las columnas especificadas a tipo string\n",
    "    data[columns] = data[columns].astype(str)\n",
    "    \n",
    "    # Aplicar one-hot encoding\n",
    "    data_encoded = pd.get_dummies(data, columns=columns, drop_first=True)\n",
    "    \n",
    "    # Convertir las columnas codificadas a tipo int\n",
    "    for column in data_encoded.columns:\n",
    "        data_encoded[column] = data_encoded[column].astype(int)\n",
    "    \n",
    "    return data_encoded"
   ]
  },
  {
   "cell_type": "code",
   "execution_count": 4,
   "metadata": {},
   "outputs": [
    {
     "data": {
      "text/html": [
       "<div>\n",
       "<style scoped>\n",
       "    .dataframe tbody tr th:only-of-type {\n",
       "        vertical-align: middle;\n",
       "    }\n",
       "\n",
       "    .dataframe tbody tr th {\n",
       "        vertical-align: top;\n",
       "    }\n",
       "\n",
       "    .dataframe thead th {\n",
       "        text-align: right;\n",
       "    }\n",
       "</style>\n",
       "<table border=\"1\" class=\"dataframe\">\n",
       "  <thead>\n",
       "    <tr style=\"text-align: right;\">\n",
       "      <th></th>\n",
       "      <th>Survived</th>\n",
       "      <th>Pclass</th>\n",
       "      <th>Name</th>\n",
       "      <th>Sex</th>\n",
       "      <th>Age</th>\n",
       "      <th>Siblings/Spouses Aboard</th>\n",
       "      <th>Parents/Children Aboard</th>\n",
       "      <th>Fare</th>\n",
       "    </tr>\n",
       "  </thead>\n",
       "  <tbody>\n",
       "    <tr>\n",
       "      <th>0</th>\n",
       "      <td>0</td>\n",
       "      <td>3</td>\n",
       "      <td>Mr. Owen Harris Braund</td>\n",
       "      <td>male</td>\n",
       "      <td>22.0</td>\n",
       "      <td>1</td>\n",
       "      <td>0</td>\n",
       "      <td>7.2500</td>\n",
       "    </tr>\n",
       "    <tr>\n",
       "      <th>1</th>\n",
       "      <td>1</td>\n",
       "      <td>1</td>\n",
       "      <td>Mrs. John Bradley (Florence Briggs Thayer) Cum...</td>\n",
       "      <td>female</td>\n",
       "      <td>38.0</td>\n",
       "      <td>1</td>\n",
       "      <td>0</td>\n",
       "      <td>71.2833</td>\n",
       "    </tr>\n",
       "    <tr>\n",
       "      <th>2</th>\n",
       "      <td>1</td>\n",
       "      <td>3</td>\n",
       "      <td>Miss. Laina Heikkinen</td>\n",
       "      <td>female</td>\n",
       "      <td>26.0</td>\n",
       "      <td>0</td>\n",
       "      <td>0</td>\n",
       "      <td>7.9250</td>\n",
       "    </tr>\n",
       "  </tbody>\n",
       "</table>\n",
       "</div>"
      ],
      "text/plain": [
       "   Survived  Pclass                                               Name  \\\n",
       "0         0       3                             Mr. Owen Harris Braund   \n",
       "1         1       1  Mrs. John Bradley (Florence Briggs Thayer) Cum...   \n",
       "2         1       3                              Miss. Laina Heikkinen   \n",
       "\n",
       "      Sex   Age  Siblings/Spouses Aboard  Parents/Children Aboard     Fare  \n",
       "0    male  22.0                        1                        0   7.2500  \n",
       "1  female  38.0                        1                        0  71.2833  \n",
       "2  female  26.0                        0                        0   7.9250  "
      ]
     },
     "execution_count": 4,
     "metadata": {},
     "output_type": "execute_result"
    }
   ],
   "source": [
    "data_titamic = read_csv(\"titanic.csv\")\n",
    "data_titamic.head(3)"
   ]
  },
  {
   "cell_type": "code",
   "execution_count": 5,
   "metadata": {},
   "outputs": [
    {
     "data": {
      "text/html": [
       "<div>\n",
       "<style scoped>\n",
       "    .dataframe tbody tr th:only-of-type {\n",
       "        vertical-align: middle;\n",
       "    }\n",
       "\n",
       "    .dataframe tbody tr th {\n",
       "        vertical-align: top;\n",
       "    }\n",
       "\n",
       "    .dataframe thead th {\n",
       "        text-align: right;\n",
       "    }\n",
       "</style>\n",
       "<table border=\"1\" class=\"dataframe\">\n",
       "  <thead>\n",
       "    <tr style=\"text-align: right;\">\n",
       "      <th></th>\n",
       "      <th>Survived</th>\n",
       "      <th>Pclass</th>\n",
       "      <th>Name</th>\n",
       "      <th>Age</th>\n",
       "      <th>Siblings/Spouses Aboard</th>\n",
       "      <th>Parents/Children Aboard</th>\n",
       "      <th>Fare</th>\n",
       "      <th>Sex_male</th>\n",
       "    </tr>\n",
       "  </thead>\n",
       "  <tbody>\n",
       "    <tr>\n",
       "      <th>0</th>\n",
       "      <td>0</td>\n",
       "      <td>3</td>\n",
       "      <td>Mr. Owen Harris Braund</td>\n",
       "      <td>22.0</td>\n",
       "      <td>1</td>\n",
       "      <td>0</td>\n",
       "      <td>7.2500</td>\n",
       "      <td>1</td>\n",
       "    </tr>\n",
       "    <tr>\n",
       "      <th>1</th>\n",
       "      <td>1</td>\n",
       "      <td>1</td>\n",
       "      <td>Mrs. John Bradley (Florence Briggs Thayer) Cum...</td>\n",
       "      <td>38.0</td>\n",
       "      <td>1</td>\n",
       "      <td>0</td>\n",
       "      <td>71.2833</td>\n",
       "      <td>0</td>\n",
       "    </tr>\n",
       "    <tr>\n",
       "      <th>2</th>\n",
       "      <td>1</td>\n",
       "      <td>3</td>\n",
       "      <td>Miss. Laina Heikkinen</td>\n",
       "      <td>26.0</td>\n",
       "      <td>0</td>\n",
       "      <td>0</td>\n",
       "      <td>7.9250</td>\n",
       "      <td>0</td>\n",
       "    </tr>\n",
       "  </tbody>\n",
       "</table>\n",
       "</div>"
      ],
      "text/plain": [
       "   Survived  Pclass                                               Name   Age  \\\n",
       "0         0       3                             Mr. Owen Harris Braund  22.0   \n",
       "1         1       1  Mrs. John Bradley (Florence Briggs Thayer) Cum...  38.0   \n",
       "2         1       3                              Miss. Laina Heikkinen  26.0   \n",
       "\n",
       "   Siblings/Spouses Aboard  Parents/Children Aboard     Fare  Sex_male  \n",
       "0                        1                        0   7.2500         1  \n",
       "1                        1                        0  71.2833         0  \n",
       "2                        0                        0   7.9250         0  "
      ]
     },
     "execution_count": 5,
     "metadata": {},
     "output_type": "execute_result"
    }
   ],
   "source": [
    "data_titamic_encoded = pd.get_dummies(data_titamic, columns=[\"Sex\"], drop_first=True, dtype=int)\n",
    "data_titamic_encoded.head(3)"
   ]
  },
  {
   "cell_type": "code",
   "execution_count": null,
   "metadata": {},
   "outputs": [],
   "source": []
  },
  {
   "cell_type": "code",
   "execution_count": 6,
   "metadata": {},
   "outputs": [
    {
     "name": "stderr",
     "output_type": "stream",
     "text": [
      "INFO:alembic.runtime.migration:Context impl SQLiteImpl.\n",
      "INFO:alembic.runtime.migration:Will assume non-transactional DDL.\n"
     ]
    },
    {
     "data": {
      "text/plain": [
       "<Experiment: artifact_location='file:///d:/Repositorio/Proyecto-titanic/mlruns/1', creation_time=1714756562262, experiment_id='1', last_update_time=1714756562262, lifecycle_stage='active', name='Suvirved_titanic', tags={}>"
      ]
     },
     "execution_count": 6,
     "metadata": {},
     "output_type": "execute_result"
    }
   ],
   "source": [
    "mlflow.set_tracking_uri(\"sqlite:///mlflow.db\")\n",
    "mlflow.set_experiment(\"Suvirved_titanic\")\n"
   ]
  },
  {
   "cell_type": "code",
   "execution_count": 7,
   "metadata": {},
   "outputs": [],
   "source": [
    "\n",
    "\n",
    "def data_transform(df: pd.DataFrame):\n",
    "    #Thhis function transform the data into X and y\n",
    "    X = df.drop([\"Survived\",\"Name\"], axis=1)\n",
    "    y = df.Survived\n",
    "    return X, y\n",
    "\n",
    "\n",
    "def save_pickle(data, filename) -> None:\n",
    "    \"\"\"\n",
    "    This function saves the data in a pickle file\n",
    "    Args:\n",
    "        data (object): data to save\n",
    "        filename (str): filename\n",
    "    Returns:\n",
    "        None\n",
    "    \"\"\"\n",
    "    filepath = os.path.join(\"D:/Repositorio/Proyecto-titanic\", \"data_processed\", f\"{filename}.pkl\")\n",
    "    with open(filepath, 'wb') as file:\n",
    "        pickle.dump(data, file)\n",
    "        \n",
    "def split_train_test(\n",
    "    X: np.array, y: pd.Series, test_size: float = 0.3, random_state: int = 42\n",
    ") -> tuple:\n",
    "    \"\"\"\n",
    "    This function splits the data into train and test\n",
    "    Args:\n",
    "      X_tfidf (np.array): array with the vectorized data\n",
    "      y (pd.Series): series with the labels\n",
    "      test_size (float): test size\n",
    "      random_state (int): random state\n",
    "    Returns:\n",
    "      X_train (np.array): array with the vectorized data for train\n",
    "      X_test (np.array): array with the vectorized data for test\n",
    "      y_train (pd.Series): series with the labels for train\n",
    "      y_test (pd.Series): series with the labels for test\n",
    "    \"\"\"\n",
    "    X_train, X_test, y_train, y_test = train_test_split(\n",
    "        X, y, test_size=test_size, random_state=random_state\n",
    "    )\n",
    "    save_pickle((X_train, y_train), \"train\")\n",
    "    save_pickle((X_test, y_test),  \"test\")\n",
    "    logger.info(\"data saved successfully in pickle files\")\n",
    "    return X_train, X_test, y_train.values, y_test.values\n",
    "\n",
    "def display_classification_report(\n",
    "    model: object,\n",
    "    name_model: str,\n",
    "    developer: str,\n",
    "    X_train: np.array,\n",
    "    X_test: np.array,\n",
    "    y_train: np.array,\n",
    "    y_test: np.array,\n",
    "    use_cv = False\n",
    "):\n",
    "    \"\"\"This function display the classification report\n",
    "    Args:\n",
    "      model (object): model\n",
    "      name_model (str): name of the model\n",
    "      developer (str): developer name\n",
    "      X_train (np.array): array with the vectorized data for train\n",
    "      X_test (np.array): array with the vectorized data for test\n",
    "      y_train (pd.Series): series with the labels for train\n",
    "      y_test (pd.Series): series with the labels for test\n",
    "     Returns:\n",
    "      metric (list): list with the metrics\"\"\"\n",
    "    \n",
    "    # star experiment in mlflow\n",
    "    with mlflow.start_run(run_name=name_model):\n",
    "        mlflow.log_param(\"model\", name_model)\n",
    "        mlflow.log_param(\"developer\", developer)\n",
    "        # empty list to store the metrics and then tracking them in mlflow\n",
    "        metric = []\n",
    "        y_train_pred_proba = model.predict_proba(X_train)\n",
    "        y_test_pred_proba = model.predict_proba(X_test)\n",
    "        roc_auc_score_train = round(\n",
    "            roc_auc_score(\n",
    "                y_train, y_train_pred_proba[:,1], average=\"weighted\", multi_class=\"ovr\"\n",
    "            ),\n",
    "            2,\n",
    "        )\n",
    "        roc_auc_score_test = round(\n",
    "            roc_auc_score(\n",
    "                y_test, y_test_pred_proba[:,1], average=\"weighted\", multi_class=\"ovr\"\n",
    "            ),\n",
    "            2,\n",
    "        )\n",
    "\n",
    "        logger.info(\"ROC AUC Score Train: %.2f\", roc_auc_score_train)\n",
    "        logger.info(\"ROC AUC Score Test: %.2f\", roc_auc_score_test)\n",
    "\n",
    "        \n",
    "        # adding the metrics to the list\n",
    "        metric.extend([roc_auc_score_train, roc_auc_score_test])\n",
    "\n",
    "        mlflow.log_metric(\"roc_auc_train\", roc_auc_score_train)\n",
    "        mlflow.log_metric(\"roc_auc_test\", roc_auc_score_test)\n",
    "\n",
    "        y_train_pred = model.predict(X_train)\n",
    "        y_test_pred = model.predict(X_test)\n",
    "\n",
    "        (\n",
    "            precision_train,\n",
    "            recall_train,\n",
    "            fscore_train,\n",
    "            support_train,\n",
    "        ) = precision_recall_fscore_support(y_train, y_train_pred, average=\"weighted\")\n",
    "        (\n",
    "            precision_test,\n",
    "            recall_test,\n",
    "            fscore_test,\n",
    "            support_test,\n",
    "        ) = precision_recall_fscore_support(y_test, y_test_pred, average=\"weighted\")\n",
    "\n",
    "        mlflow.log_metric(\"precision_train\", precision_train)\n",
    "        mlflow.log_metric(\"precision_test\", precision_test)\n",
    "        mlflow.log_metric(\"recall_train\", recall_train)\n",
    "        mlflow.log_metric(\"recall_test\", recall_test)\n",
    "        \n",
    "        try:\n",
    "            if use_cv:\n",
    "                best_params = model.best_params_\n",
    "            else:\n",
    "                best_params = model.get_params()\n",
    "            mlflow.log_params(best_params)\n",
    "\n",
    "        except AttributeError as e:\n",
    "            logger.info(f\"Error: {e}\")\n",
    "\n",
    "        mlflow.sklearn.log_model(model, f\"model_{name_model}\")\n",
    "\n",
    "        acc_score_train = round(accuracy_score(y_train, y_train_pred), 2)\n",
    "        acc_score_test = round(accuracy_score(y_test, y_test_pred), 2)\n",
    "\n",
    "        metric.extend(\n",
    "            [\n",
    "                acc_score_train,\n",
    "                acc_score_test,\n",
    "                round(precision_train, 2),\n",
    "                round(precision_test, 2),\n",
    "                round(recall_train, 2),\n",
    "                round(recall_test, 2),\n",
    "                round(fscore_train, 2),\n",
    "                round(fscore_test, 2),\n",
    "            ]\n",
    "        )\n",
    "\n",
    "        print(\"Train Accuracy: \", acc_score_train)\n",
    "        print(\"Test Accuracy: \", acc_score_test)\n",
    "\n",
    "        model_report_train = classification_report(y_train, y_train_pred)\n",
    "        model_report_test = classification_report(y_test, y_test_pred)\n",
    "\n",
    "        print(\"Classification Report for Train:\\n\", model_report_train)\n",
    "        print(\"Classification Report for Test:\\n\", model_report_test)\n",
    "\n",
    "        # Plot the confusion matrix\n",
    "        fig, ax = plt.subplots(figsize=(8, 4))\n",
    "\n",
    "\n",
    "        cm = confusion_matrix(y_test, y_test_pred)\n",
    "        cmp = ConfusionMatrixDisplay(cm, display_labels=model.classes_)\n",
    "        cmp.plot(ax=ax)\n",
    "\n",
    "        plt.xticks(rotation=80)\n",
    "        plt.show()\n",
    "\n",
    "        mlflow.sklearn.log_model(model, f\"models/{name_model}\")\n",
    "\n",
    "        return metric\n",
    "    \n",
    "    \n",
    "def grid_search(model, folds, params, scoring):\n",
    "    \"\"\"This function perform a grid search\n",
    "    Args:\n",
    "        model (object): model\n",
    "        folds (int): number of folds\n",
    "        params (dict): dictionary with the parameters\n",
    "        scoring (str): scoring\n",
    "    Returns:\n",
    "        grid_search (object): grid search\n",
    "    \"\"\"\n",
    "\n",
    "    grid_search = GridSearchCV(\n",
    "        model, cv=folds, param_grid=params, scoring=scoring, n_jobs=-1, verbose=1\n",
    "    )\n",
    "    return grid_search\n",
    "\n",
    "def print_best_score_params(model):\n",
    "    \"\"\"This functions print best score and best hyperparameters for baselines models\n",
    "    Args:\n",
    "        model (object): model\n",
    "    Returns:\n",
    "        None\"\"\"\n",
    "    print(\"Best Score: \", model.best_score_)\n",
    "    print(\"Best Hyperparameters: \", model.best_params_)\n",
    "\n"
   ]
  },
  {
   "cell_type": "code",
   "execution_count": 8,
   "metadata": {},
   "outputs": [
    {
     "name": "stderr",
     "output_type": "stream",
     "text": [
      "INFO:__main__:data saved successfully in pickle files\n"
     ]
    },
    {
     "name": "stdout",
     "output_type": "stream",
     "text": [
      "(887, 8)\n",
      "(887, 6)\n",
      "(887,)\n",
      "(620, 6)\n",
      "(620,)\n"
     ]
    }
   ],
   "source": [
    "\n",
    "X, y = data_transform(data_titamic_encoded)\n",
    "X_train, X_test, y_train, y_test = split_train_test(X, y)\n",
    "\n",
    "print(data_titamic.shape)\n",
    "print(X.shape)\n",
    "print(y.shape)\n",
    "print(X_train.shape)\n",
    "print(y_train.shape)"
   ]
  },
  {
   "cell_type": "markdown",
   "metadata": {},
   "source": [
    "#### Modelo de Regresion logistica"
   ]
  },
  {
   "cell_type": "code",
   "execution_count": 10,
   "metadata": {},
   "outputs": [
    {
     "name": "stderr",
     "output_type": "stream",
     "text": [
      "INFO:__main__:ROC AUC Score Train: 0.87\n",
      "INFO:__main__:ROC AUC Score Test: 0.82\n"
     ]
    },
    {
     "name": "stdout",
     "output_type": "stream",
     "text": [
      "Train Accuracy:  0.82\n",
      "Test Accuracy:  0.77\n",
      "Classification Report for Train:\n",
      "               precision    recall  f1-score   support\n",
      "\n",
      "           0       0.84      0.88      0.86       379\n",
      "           1       0.79      0.73      0.76       241\n",
      "\n",
      "    accuracy                           0.82       620\n",
      "   macro avg       0.81      0.80      0.81       620\n",
      "weighted avg       0.82      0.82      0.82       620\n",
      "\n",
      "Classification Report for Test:\n",
      "               precision    recall  f1-score   support\n",
      "\n",
      "           0       0.77      0.89      0.83       166\n",
      "           1       0.76      0.57      0.66       101\n",
      "\n",
      "    accuracy                           0.77       267\n",
      "   macro avg       0.77      0.73      0.74       267\n",
      "weighted avg       0.77      0.77      0.76       267\n",
      "\n"
     ]
    },
    {
     "data": {
      "image/png": "[encoded data removed]",
      "text/plain": [
       "<Figure size 800x400 with 2 Axes>"
      ]
     },
     "metadata": {},
     "output_type": "display_data"
    },
    {
     "data": {
      "text/plain": [
       "[0.87, 0.82, 0.82, 0.77, 0.82, 0.77, 0.82, 0.77, 0.82, 0.76]"
      ]
     },
     "execution_count": 10,
     "metadata": {},
     "output_type": "execute_result"
    }
   ],
   "source": [
    "log_reg = LogisticRegression(random_state=40)\n",
    "log_reg.fit(X_train,y_train)\n",
    "display_classification_report(model=log_reg, \n",
    "                              name_model=\"LogisticRegression\", \n",
    "                              developer=\"Jose Luis\", \n",
    "                              X_train=X_train, \n",
    "                              X_test=X_test, \n",
    "                              y_train=y_train, \n",
    "                              y_test=y_test, \n",
    "                              use_cv=False)"
   ]
  },
  {
   "cell_type": "markdown",
   "metadata": {},
   "source": [
    "#### Modelo Multinomial Naive Bayes"
   ]
  },
  {
   "cell_type": "code",
   "execution_count": 11,
   "metadata": {},
   "outputs": [
    {
     "name": "stderr",
     "output_type": "stream",
     "text": [
      "INFO:__main__:ROC AUC Score Train: 0.73\n",
      "INFO:__main__:ROC AUC Score Test: 0.74\n"
     ]
    },
    {
     "name": "stdout",
     "output_type": "stream",
     "text": [
      "Train Accuracy:  0.68\n",
      "Test Accuracy:  0.69\n",
      "Classification Report for Train:\n",
      "               precision    recall  f1-score   support\n",
      "\n",
      "           0       0.71      0.83      0.76       379\n",
      "           1       0.63      0.46      0.53       241\n",
      "\n",
      "    accuracy                           0.68       620\n",
      "   macro avg       0.67      0.64      0.65       620\n",
      "weighted avg       0.68      0.68      0.67       620\n",
      "\n",
      "Classification Report for Test:\n",
      "               precision    recall  f1-score   support\n",
      "\n",
      "           0       0.72      0.84      0.77       166\n",
      "           1       0.63      0.46      0.53       101\n",
      "\n",
      "    accuracy                           0.69       267\n",
      "   macro avg       0.67      0.65      0.65       267\n",
      "weighted avg       0.68      0.69      0.68       267\n",
      "\n"
     ]
    },
    {
     "data": {
      "image/png": "[encoded data removed]",
      "text/plain": [
       "<Figure size 800x400 with 2 Axes>"
      ]
     },
     "metadata": {},
     "output_type": "display_data"
    },
    {
     "data": {
      "text/plain": [
       "[0.73, 0.74, 0.68, 0.69, 0.68, 0.68, 0.68, 0.69, 0.67, 0.68]"
      ]
     },
     "execution_count": 11,
     "metadata": {},
     "output_type": "execute_result"
    }
   ],
   "source": [
    "mnb = MultinomialNB()\n",
    "mnb.fit(X_train, y_train)\n",
    "display_classification_report(model=mnb, \n",
    "                              name_model=\"MultinomialNB\", \n",
    "                              developer=\"Jose Luis\", \n",
    "                              X_train=X_train, \n",
    "                              X_test=X_test, \n",
    "                              y_train=y_train, \n",
    "                              y_test=y_test)"
   ]
  },
  {
   "cell_type": "markdown",
   "metadata": {},
   "source": [
    "#### Decision tree Clasifier"
   ]
  },
  {
   "cell_type": "code",
   "execution_count": 12,
   "metadata": {},
   "outputs": [
    {
     "name": "stderr",
     "output_type": "stream",
     "text": [
      "INFO:__main__:ROC AUC Score Train: 1.00\n",
      "INFO:__main__:ROC AUC Score Test: 0.75\n"
     ]
    },
    {
     "name": "stdout",
     "output_type": "stream",
     "text": [
      "Train Accuracy:  0.99\n",
      "Test Accuracy:  0.77\n",
      "Classification Report for Train:\n",
      "               precision    recall  f1-score   support\n",
      "\n",
      "           0       0.98      1.00      0.99       379\n",
      "           1       1.00      0.96      0.98       241\n",
      "\n",
      "    accuracy                           0.99       620\n",
      "   macro avg       0.99      0.98      0.98       620\n",
      "weighted avg       0.99      0.99      0.99       620\n",
      "\n",
      "Classification Report for Test:\n",
      "               precision    recall  f1-score   support\n",
      "\n",
      "           0       0.82      0.81      0.82       166\n",
      "           1       0.70      0.70      0.70       101\n",
      "\n",
      "    accuracy                           0.77       267\n",
      "   macro avg       0.76      0.76      0.76       267\n",
      "weighted avg       0.77      0.77      0.77       267\n",
      "\n"
     ]
    },
    {
     "data": {
      "image/png": "[encoded data removed]",
      "text/plain": [
       "<Figure size 800x400 with 2 Axes>"
      ]
     },
     "metadata": {},
     "output_type": "display_data"
    },
    {
     "data": {
      "text/plain": [
       "[1.0, 0.75, 0.99, 0.77, 0.99, 0.77, 0.99, 0.77, 0.99, 0.77]"
      ]
     },
     "execution_count": 12,
     "metadata": {},
     "output_type": "execute_result"
    }
   ],
   "source": [
    "dtc = DecisionTreeClassifier(random_state=42)\n",
    "dtc.fit(X_train, y_train)\n",
    "display_classification_report(model=dtc, \n",
    "                              name_model=\"DecisionTreeClassifier\", \n",
    "                              developer=\"Jose Luis\", \n",
    "                              X_train=X_train, \n",
    "                              X_test=X_test, \n",
    "                              y_train=y_train, \n",
    "                              y_test=y_test)"
   ]
  },
  {
   "cell_type": "markdown",
   "metadata": {},
   "source": [
    "#### Suport Vector Machine"
   ]
  },
  {
   "cell_type": "code",
   "execution_count": 20,
   "metadata": {},
   "outputs": [
    {
     "name": "stderr",
     "output_type": "stream",
     "text": [
      "INFO:__main__:ROC AUC Score Train: 0.95\n",
      "INFO:__main__:ROC AUC Score Test: 0.75\n"
     ]
    },
    {
     "name": "stdout",
     "output_type": "stream",
     "text": [
      "Train Accuracy:  0.92\n",
      "Test Accuracy:  0.68\n",
      "Classification Report for Train:\n",
      "               precision    recall  f1-score   support\n",
      "\n",
      "           0       0.91      0.96      0.93       379\n",
      "           1       0.94      0.84      0.89       241\n",
      "\n",
      "    accuracy                           0.92       620\n",
      "   macro avg       0.92      0.90      0.91       620\n",
      "weighted avg       0.92      0.92      0.92       620\n",
      "\n",
      "Classification Report for Test:\n",
      "               precision    recall  f1-score   support\n",
      "\n",
      "           0       0.71      0.82      0.76       166\n",
      "           1       0.60      0.45      0.51       101\n",
      "\n",
      "    accuracy                           0.68       267\n",
      "   macro avg       0.65      0.63      0.64       267\n",
      "weighted avg       0.67      0.68      0.67       267\n",
      "\n"
     ]
    },
    {
     "data": {
      "image/png": "[encoded data removed]",
      "text/plain": [
       "<Figure size 800x400 with 2 Axes>"
      ]
     },
     "metadata": {},
     "output_type": "display_data"
    },
    {
     "data": {
      "text/plain": [
       "[0.95, 0.75, 0.92, 0.68, 0.92, 0.67, 0.92, 0.68, 0.92, 0.67]"
      ]
     },
     "execution_count": 20,
     "metadata": {},
     "output_type": "execute_result"
    }
   ],
   "source": [
    "svc = SVC(gamma=\"auto\", probability=True, random_state=42)\n",
    "svc.fit(X_train, y_train)\n",
    "display_classification_report(model=svc, \n",
    "                              name_model=\"SVC\", \n",
    "                              developer=\"Jose Luis\", \n",
    "                              X_train=X_train, \n",
    "                              X_test=X_test, \n",
    "                              y_train=y_train, \n",
    "                              y_test=y_test)"
   ]
  },
  {
   "cell_type": "markdown",
   "metadata": {},
   "source": [
    "#### Ramdon Forest"
   ]
  },
  {
   "cell_type": "code",
   "execution_count": 14,
   "metadata": {},
   "outputs": [
    {
     "name": "stderr",
     "output_type": "stream",
     "text": [
      "INFO:__main__:ROC AUC Score Train: 0.87\n",
      "INFO:__main__:ROC AUC Score Test: 0.84\n"
     ]
    },
    {
     "name": "stdout",
     "output_type": "stream",
     "text": [
      "Train Accuracy:  0.82\n",
      "Test Accuracy:  0.74\n",
      "Classification Report for Train:\n",
      "               precision    recall  f1-score   support\n",
      "\n",
      "           0       0.78      0.99      0.87       379\n",
      "           1       0.97      0.56      0.71       241\n",
      "\n",
      "    accuracy                           0.82       620\n",
      "   macro avg       0.88      0.78      0.79       620\n",
      "weighted avg       0.86      0.82      0.81       620\n",
      "\n",
      "Classification Report for Test:\n",
      "               precision    recall  f1-score   support\n",
      "\n",
      "           0       0.72      0.96      0.82       166\n",
      "           1       0.86      0.38      0.52       101\n",
      "\n",
      "    accuracy                           0.74       267\n",
      "   macro avg       0.79      0.67      0.67       267\n",
      "weighted avg       0.77      0.74      0.71       267\n",
      "\n"
     ]
    },
    {
     "data": {
      "image/png": "[encoded data removed]",
      "text/plain": [
       "<Figure size 800x400 with 2 Axes>"
      ]
     },
     "metadata": {},
     "output_type": "display_data"
    },
    {
     "data": {
      "text/plain": [
       "[0.87, 0.84, 0.82, 0.74, 0.86, 0.77, 0.82, 0.74, 0.81, 0.71]"
      ]
     },
     "execution_count": 14,
     "metadata": {},
     "output_type": "execute_result"
    }
   ],
   "source": [
    "rf = RandomForestClassifier(max_depth=2,random_state=42)\n",
    "rf.fit(X_train, y_train)\n",
    "display_classification_report(model= rf,\n",
    "                              name_model=\"RandomForestClassifier\", \n",
    "                              developer=\"Jose Luis\", \n",
    "                              X_train=X_train, \n",
    "                              X_test=X_test, \n",
    "                              y_train=y_train, \n",
    "                              y_test=y_test)\n"
   ]
  },
  {
   "cell_type": "markdown",
   "metadata": {},
   "source": [
    "#### Redes neuronales artificiales"
   ]
  },
  {
   "cell_type": "code",
   "execution_count": null,
   "metadata": {},
   "outputs": [],
   "source": [
    "mlp = MLPClassifier(hidden_layer_sizes=(100,), activation='relu', solver='adam', random_state=42)\n",
    "mlp.fit(X_train, y_train)\n",
    "display_classification_report(model=mlp, \n",
    "                              name_model=\"MLPClassifier\", \n",
    "                              developer=\"Jose Luis\", \n",
    "                              X_train=X_train, \n",
    "                              X_test=X_test, \n",
    "                              y_train=y_train, \n",
    "                              y_test=y_test)"
   ]
  },
  {
   "cell_type": "markdown",
   "metadata": {},
   "source": [
    "#### Modelo de regresion logistica con GridSearchCV"
   ]
  },
  {
   "cell_type": "code",
   "execution_count": 37,
   "metadata": {},
   "outputs": [],
   "source": [
    "folds = StratifiedKFold(n_splits = 5, shuffle = True, random_state = 40)"
   ]
  },
  {
   "cell_type": "code",
   "execution_count": null,
   "metadata": {},
   "outputs": [],
   "source": [
    "log_reg = LogisticRegression()\n",
    "\n",
    "params_grid = {\n",
    "    'penalty': ['l1', 'l2'],\n",
    "    'C': [0.001, 0.01, 0.1, 1, 10, 100],\n",
    "    'solver': ['liblinear', 'saga'],\n",
    "    'max_iter': [100, 200, 300],\n",
    "    'class_weight': [None, 'balanced'],\n",
    "    'tol': [1e-3, 1e-4, 1e-5],\n",
    "    'fit_intercept': [True, False],\n",
    "    'warm_start': [True, False]\n",
    "}\n",
    "\n",
    "\n",
    "grid_search_log = grid_search(log_reg, folds, params_grid, scoring=\"accuracy\")\n",
    "grid_search_log.fit(X_train, y_train)  # entrenamiento con los datos rebalanceados\n",
    "\n",
    "print_best_score_params(grid_search_log)\n",
    "display_classification_report(grid_search_log,\n",
    "                              name_model=\"LogisticRegressionCVSmote\", \n",
    "                              developer=\"Jose Luis\", \n",
    "                              X_train=X_train,  # evaluación con los datos rebalanceados\n",
    "                              X_test=X_test, \n",
    "                              y_train=y_train,  # etiquetas rebalanceadas\n",
    "                              y_test=y_test, \n",
    "                              use_cv=True)"
   ]
  },
  {
   "cell_type": "markdown",
   "metadata": {},
   "source": [
    "#### Modelo Multinomial bayes con gridSearchCv"
   ]
  },
  {
   "cell_type": "code",
   "execution_count": null,
   "metadata": {},
   "outputs": [],
   "source": [
    "mnb = MultinomialNB()\n",
    "params_grid = {\n",
    "    'alpha': [0.1, 0.5, 1.0, 2.0],  # Parámetro de suavizado de Laplace\n",
    "    'fit_prior': [True, False],  # Si se debe aprender o no las probabilidades a priori de clase\n",
    "    'class_prior': [None, [0.1, 0.9], [0.2, 0.8], [0.3, 0.7]]  # Probabilidades a priori de clase\n",
    "}\n",
    "grid_search_mnb = grid_search(mnb, folds, params_grid, scoring=\"accuracy\")\n",
    "grid_search_mnb.fit(X_train, y_train)\n",
    "print_best_score_params(grid_search_mnb)\n",
    "\n",
    "display_classification_report(model= grid_search_mnb,\n",
    "                              name_model=\"MultinomialNBCV\",\n",
    "                              developer= \"Jose Luis\",\n",
    "                              X_train= X_train,\n",
    "                              X_test= X_test,\n",
    "                              y_train= y_train,\n",
    "                              y_test= y_test,\n",
    "                              use_cv= True)"
   ]
  },
  {
   "cell_type": "code",
   "execution_count": null,
   "metadata": {},
   "outputs": [],
   "source": []
  }
 ],
 "metadata": {
  "kernelspec": {
   "display_name": "Python 3",
   "language": "python",
   "name": "python3"
  },
  "language_info": {
   "codemirror_mode": {
    "name": "ipython",
    "version": 3
   },
   "file_extension": ".py",
   "mimetype": "text/x-python",
   "name": "python",
   "nbconvert_exporter": "python",
   "pygments_lexer": "ipython3",
   "version": "3.12.2"
  }
 },
 "nbformat": 4,
 "nbformat_minor": 2
}
